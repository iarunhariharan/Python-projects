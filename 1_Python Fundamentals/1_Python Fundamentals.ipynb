{
 "cells": [
  {
   "cell_type": "code",
   "execution_count": 13,
   "id": "3945ca4f-f4e0-4866-94bd-1fc52d1d25cb",
   "metadata": {},
   "outputs": [
    {
     "name": "stdout",
     "output_type": "stream",
     "text": [
      "Arun\n",
      "D004\n",
      "arunhariharan2047@gmail.com\n"
     ]
    }
   ],
   "source": [
    "#Exercise 1\n",
    "print(\"Arun\")\n",
    "print(\"D004\")\n",
    "print(\"arunhariharan2047@gmail.com\")"
   ]
  },
  {
   "cell_type": "code",
   "execution_count": 15,
   "id": "dae9b6aa-04b0-424f-a192-89122cec7761",
   "metadata": {},
   "outputs": [
    {
     "name": "stdout",
     "output_type": "stream",
     "text": [
      "Arun \n",
      "D004 \n",
      "arunhariharan2047@gmail.com\n"
     ]
    }
   ],
   "source": [
    "#Exercise 2\n",
    "print('Arun \\nD004 \\narunhariharan2047@gmail.com')"
   ]
  },
  {
   "cell_type": "code",
   "execution_count": 17,
   "id": "699df235-a003-4f46-a1da-e06f90a105f4",
   "metadata": {},
   "outputs": [
    {
     "name": "stdout",
     "output_type": "stream",
     "text": [
      "14+7= 21\n",
      "14-7= 7\n",
      "14*7= 98\n",
      "14/7= 2.0\n"
     ]
    }
   ],
   "source": [
    "#Exercise 3\n",
    "num1= 14\n",
    "num2=7\n",
    "\n",
    "addition= num1+num2\n",
    "substraction= num1-num2\n",
    "multiplication= num1*num2\n",
    "division= num1/num2\n",
    "\n",
    "print('14+7=', addition)\n",
    "print('14-7=', substraction)\n",
    "print('14*7=', multiplication)\n",
    "print('14/7=', division)"
   ]
  },
  {
   "cell_type": "code",
   "execution_count": 9,
   "id": "c686b459-8689-4a72-bc93-bbe7e807a23b",
   "metadata": {},
   "outputs": [
    {
     "name": "stdout",
     "output_type": "stream",
     "text": [
      "1\n",
      "2\n",
      "3\n",
      "4\n",
      "5\n"
     ]
    }
   ],
   "source": [
    "#Exercise 4\n",
    "for i in range(1, 6):\n",
    "    print(i)\n"
   ]
  },
  {
   "cell_type": "code",
   "execution_count": 19,
   "id": "69d31235-4acf-4bd4-a3d9-4fe2479e5b6c",
   "metadata": {},
   "outputs": [
    {
     "name": "stdout",
     "output_type": "stream",
     "text": [
      "\"SDK\" stands for \"Software Development Kit\", whereas\n",
      "\"IDE\" stands for \"Integrated Development Environment\".\n"
     ]
    }
   ],
   "source": [
    "#Exercise 5\n",
    "print('\"SDK\" stands for \"Software Development Kit\", whereas\\n\"IDE\" stands for \"Integrated Development Environment\".')\n"
   ]
  },
  {
   "cell_type": "code",
   "execution_count": 37,
   "id": "31a07b2a-93f9-4cf6-8311-a3b2d30e0fad",
   "metadata": {},
   "outputs": [
    {
     "name": "stdout",
     "output_type": "stream",
     "text": [
      "python is an \"awesome\" language.\n",
      "python\n",
      "\t2023\n",
      "I'm from Entri\n",
      "5\n",
      "e\n",
      "Entri\n",
      "2023\n",
      "Entr2023\n",
      "Entri*20"
     ]
    }
   ],
   "source": [
    "#Exercise 6\n",
    "print(\"python is an \\\"awesome\\\" language.\")\n",
    "print(\"python\\n\\t2023\")\n",
    "print('I\\'m from Entri.\\b')\n",
    "print(\"\\65\")\n",
    "print(\"\\x65\")\n",
    "print(\"Entri\", \"2023\", sep=\"\\n\")\n",
    "print(\"Entri\", \"2023\", sep=\"\\b\")\n",
    "print(\"Entri\", \"2023\", sep=\"*\", end=\"\\b\\b\\b\\b\")"
   ]
  },
  {
   "cell_type": "code",
   "execution_count": 43,
   "id": "5ac6a4b5-e519-4058-ad45-ac2e76707b6e",
   "metadata": {},
   "outputs": [
    {
     "name": "stdout",
     "output_type": "stream",
     "text": [
      "Type of num is <class 'int'>\n",
      "Type of textnum is <class 'str'>\n",
      "Type of decimal is <class 'float'>\n",
      "Sum= 178.3\n"
     ]
    }
   ],
   "source": [
    "#Exercise 7\n",
    "num=23\n",
    "textnum=\"57\"\n",
    "decimal=98.3\n",
    "\n",
    "print('Type of num is', type(num))\n",
    "print('Type of textnum is', type(textnum))\n",
    "print('Type of decimal is', type(decimal))\n",
    "\n",
    "textnum_int= int(textnum)\n",
    "\n",
    "print('Sum=', num+textnum_int+decimal)"
   ]
  },
  {
   "cell_type": "code",
   "execution_count": 51,
   "id": "96a9d921-ddc5-4f1b-b429-249d6c4883d9",
   "metadata": {},
   "outputs": [
    {
     "name": "stdout",
     "output_type": "stream",
     "text": [
      "There is 525600 minutes in a year\n"
     ]
    }
   ],
   "source": [
    "#Exercise 8\n",
    "Days_in_a_year=365\n",
    "Hours_in_a_day=24\n",
    "Minutes_in_an_hour=60\n",
    "\n",
    "Total_number_of_minutes_in_a_year = Days_in_a_year*Hours_in_a_day*Minutes_in_an_hour\n",
    "\n",
    "print('There is',Total_number_of_minutes_in_a_year,'minutes in a year')"
   ]
  },
  {
   "cell_type": "code",
   "execution_count": 55,
   "id": "a41b21ab-585b-48bc-885a-fcb79d565755",
   "metadata": {},
   "outputs": [
    {
     "name": "stdin",
     "output_type": "stream",
     "text": [
      "Enter your name Arun\n"
     ]
    },
    {
     "name": "stdout",
     "output_type": "stream",
     "text": [
      "Hi Arun welcome to python programming :)\n"
     ]
    }
   ],
   "source": [
    "#Exercise 9\n",
    "name=input('Enter your name')\n",
    "print('Hi',name, 'welcome to python programming :)')"
   ]
  },
  {
   "cell_type": "code",
   "execution_count": 9,
   "id": "fe59652d-59f4-4504-ba82-8acc191808da",
   "metadata": {},
   "outputs": [
    {
     "name": "stdin",
     "output_type": "stream",
     "text": [
      "Enter the amount in pounds:  5\n"
     ]
    },
    {
     "name": "stdout",
     "output_type": "stream",
     "text": [
      "5.0 pounds are 6.2 dollars\n"
     ]
    }
   ],
   "source": [
    "#Exercise 10\n",
    "num = float(input('Enter the amount in pounds: '))\n",
    "result = num * 1.24\n",
    "print(num,'pounds are',result,'dollars')"
   ]
  }
 ],
 "metadata": {
  "kernelspec": {
   "display_name": "Python [conda env:base] *",
   "language": "python",
   "name": "conda-base-py"
  },
  "language_info": {
   "codemirror_mode": {
    "name": "ipython",
    "version": 3
   },
   "file_extension": ".py",
   "mimetype": "text/x-python",
   "name": "python",
   "nbconvert_exporter": "python",
   "pygments_lexer": "ipython3",
   "version": "3.12.7"
  }
 },
 "nbformat": 4,
 "nbformat_minor": 5
}
