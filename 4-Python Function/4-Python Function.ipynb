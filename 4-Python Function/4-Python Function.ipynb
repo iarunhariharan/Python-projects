{
 "cells": [
  {
   "cell_type": "code",
   "execution_count": 9,
   "id": "eb535388-610e-49fc-948b-e7c18ed7bf22",
   "metadata": {},
   "outputs": [],
   "source": [
    "# Exercise 1:\n",
    "def calculate(a, b=10, c=None):\n",
    "    if c is None:\n",
    "        print(a + b)\n",
    "    else:\n",
    "        print(a * b * c)"
   ]
  },
  {
   "cell_type": "code",
   "execution_count": 13,
   "id": "c1205653-d439-4b56-bd9c-19471118ba4d",
   "metadata": {},
   "outputs": [
    {
     "name": "stdout",
     "output_type": "stream",
     "text": [
      "48\n"
     ]
    }
   ],
   "source": [
    "\n",
    "calculate (1, 6, 8)"
   ]
  },
  {
   "cell_type": "code",
   "execution_count": 17,
   "id": "8fcb360c-a5e6-4818-837b-2bbe1a85ada5",
   "metadata": {},
   "outputs": [],
   "source": [
    "# Exercise 2:\n",
    "def long_strings(strings):\n",
    "    return [s for s in strings if len(s) >= 5]"
   ]
  },
  {
   "cell_type": "code",
   "execution_count": 25,
   "id": "c91604a8-d300-4766-8ffc-b3e59a82129b",
   "metadata": {},
   "outputs": [
    {
     "name": "stdout",
     "output_type": "stream",
     "text": [
      "['apple', 'pineapple', 'banana']\n"
     ]
    }
   ],
   "source": [
    "words = [\"apple\", \"pineapple\", \"banana\", \"plum\", \"kiwi\"]\n",
    "long_words = long_strings(words)\n",
    "print(long_words)"
   ]
  },
  {
   "cell_type": "code",
   "execution_count": 27,
   "id": "ad387930-ef3f-47e3-a9e3-e68326fbd1cc",
   "metadata": {},
   "outputs": [
    {
     "name": "stdout",
     "output_type": "stream",
     "text": [
      "Result is 17\n"
     ]
    }
   ],
   "source": [
    "# Exercise 3:\n",
    "expression = \"3 * 5 + 2\"\n",
    "result = eval(expression)\n",
    "print(\"Result is\", result)\n"
   ]
  },
  {
   "cell_type": "code",
   "execution_count": 31,
   "id": "58987f3b-3b77-4713-ab77-c96f6f9a080f",
   "metadata": {},
   "outputs": [
    {
     "name": "stdout",
     "output_type": "stream",
     "text": [
      "Prime Numbers are [3, 7, 13, 31, 17]\n"
     ]
    }
   ],
   "source": [
    "# Exercise 4:\n",
    "def is_prime(n):\n",
    "    if n < 2:\n",
    "        return False\n",
    "    for i in range(2, int(n ** 0.5) + 1):\n",
    "        if n % i == 0:\n",
    "            return False\n",
    "    return True\n",
    "\n",
    "# list of numbers\n",
    "numbers = [10, 3, 7, 20, 13, 25, 31, 40, 17]\n",
    "\n",
    "# Using filter() to get prime numbers\n",
    "prime_numbers = list(filter(is_prime, numbers))\n",
    "\n",
    "print(\"Prime Numbers are\", prime_numbers)"
   ]
  },
  {
   "cell_type": "code",
   "execution_count": 33,
   "id": "f64826d2-897d-487b-bd49-2aa5609ecef9",
   "metadata": {},
   "outputs": [
    {
     "name": "stdout",
     "output_type": "stream",
     "text": [
      "Uppercase Words: ['HELLO', 'WORLD', 'PYTHON', 'IS', 'INTERESTING']\n"
     ]
    }
   ],
   "source": [
    "# Exercise 5:\n",
    "words = [\"hello\", \"world\", \"python\", \"is\", \"interesting\"]\n",
    "\n",
    "uppercase_words = list(map(str.upper, words))\n",
    "\n",
    "print(\"Uppercase Words:\", uppercase_words)\n"
   ]
  }
 ],
 "metadata": {
  "kernelspec": {
   "display_name": "Python [conda env:base] *",
   "language": "python",
   "name": "conda-base-py"
  },
  "language_info": {
   "codemirror_mode": {
    "name": "ipython",
    "version": 3
   },
   "file_extension": ".py",
   "mimetype": "text/x-python",
   "name": "python",
   "nbconvert_exporter": "python",
   "pygments_lexer": "ipython3",
   "version": "3.12.7"
  }
 },
 "nbformat": 4,
 "nbformat_minor": 5
}
