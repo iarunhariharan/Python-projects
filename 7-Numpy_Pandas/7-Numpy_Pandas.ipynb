{
 "cells": [
  {
   "cell_type": "code",
   "execution_count": 1,
   "id": "011f5f6a-8598-40d3-9ccf-62df03904625",
   "metadata": {},
   "outputs": [],
   "source": [
    "import numpy as np\n",
    "import pandas as pd"
   ]
  },
  {
   "cell_type": "code",
   "execution_count": 3,
   "id": "90144561-9b98-44bc-a913-cf83120e1817",
   "metadata": {},
   "outputs": [
    {
     "name": "stdout",
     "output_type": "stream",
     "text": [
      "Exercise 1:\n",
      " [[ 1  2  3  4  5]\n",
      " [ 6  7  8  9 10]]\n"
     ]
    }
   ],
   "source": [
    "# Exercise 1\n",
    "arr1 = np.arange(1, 11).reshape(2, 5)\n",
    "print(\"Exercise 1:\\n\", arr1)"
   ]
  },
  {
   "cell_type": "code",
   "execution_count": 5,
   "id": "a8ead14d-5778-4875-a689-437d61d091b9",
   "metadata": {},
   "outputs": [
    {
     "name": "stdout",
     "output_type": "stream",
     "text": [
      "\n",
      "Exercise 2:\n",
      " [ 6  7  8  9 10 11 12 13 14 15 16]\n"
     ]
    }
   ],
   "source": [
    "# Exercise 2\n",
    "arr2 = np.arange(1, 21)\n",
    "extracted_elements = arr2[5:16]  # 5th to 15th index\n",
    "print(\"\\nExercise 2:\\n\", extracted_elements)"
   ]
  },
  {
   "cell_type": "code",
   "execution_count": 7,
   "id": "a29d808b-0a79-47c0-bb83-c6ab45065f2d",
   "metadata": {},
   "outputs": [
    {
     "name": "stdout",
     "output_type": "stream",
     "text": [
      "\n",
      "Exercise 3:\n",
      " apples     3\n",
      "bananas    2\n",
      "oranges    1\n",
      "pears      4\n",
      "dtype: int64\n"
     ]
    }
   ],
   "source": [
    "# Exercise 3\n",
    "series = pd.Series({'apples': 3, 'bananas': 2, 'oranges': 1})\n",
    "series['pears'] = 4\n",
    "print(\"\\nExercise 3:\\n\", series)"
   ]
  },
  {
   "cell_type": "code",
   "execution_count": 11,
   "id": "63adf280-1e60-4e07-8ecd-2b4cd0e4144e",
   "metadata": {},
   "outputs": [
    {
     "name": "stdout",
     "output_type": "stream",
     "text": [
      "\n",
      "Exercise 4:\n",
      "       name  age gender\n",
      "0    Alice   25      F\n",
      "1      Bob   30      M\n",
      "2  Charlie   22      M\n",
      "3    David   35      M\n",
      "4     Emma   40      F\n",
      "5    Frank   29      M\n",
      "6    Grace   31      F\n",
      "7   Hannah   28      F\n",
      "8      Ian   33      M\n",
      "9     Jack   27      M\n"
     ]
    }
   ],
   "source": [
    "# Exercise 4\n",
    "data = {\n",
    "    'name': ['Alice', 'Bob', 'Charlie', 'David', 'Emma', 'Frank', 'Grace', 'Hannah', 'Ian', 'Jack'],\n",
    "    'age': [25, 30, 22, 35, 40, 29, 31, 28, 33, 27],\n",
    "    'gender': ['F', 'M', 'M', 'M', 'F', 'M', 'F', 'F', 'M', 'M']\n",
    "}\n",
    "df = pd.DataFrame(data)\n",
    "print(\"\\nExercise 4:\\n\", df)"
   ]
  },
  {
   "cell_type": "code",
   "execution_count": 13,
   "id": "4e946dc2-7a01-4ccd-9439-b8833c907cba",
   "metadata": {},
   "outputs": [
    {
     "name": "stdout",
     "output_type": "stream",
     "text": [
      "\n",
      "Exercise 5:\n",
      "       name  age gender  occupation\n",
      "0    Alice   25      F  Programmer\n",
      "1      Bob   30      M     Manager\n",
      "2  Charlie   22      M     Analyst\n",
      "3    David   35      M  Programmer\n",
      "4     Emma   40      F     Manager\n",
      "5    Frank   29      M     Analyst\n",
      "6    Grace   31      F  Programmer\n",
      "7   Hannah   28      F     Manager\n",
      "8      Ian   33      M     Analyst\n",
      "9     Jack   27      M  Programmer\n"
     ]
    }
   ],
   "source": [
    "# Exercise 5\n",
    "df['occupation'] = ['Programmer', 'Manager', 'Analyst', 'Programmer', 'Manager', 'Analyst', 'Programmer', 'Manager', 'Analyst', 'Programmer']\n",
    "print(\"\\nExercise 5:\\n\", df)"
   ]
  },
  {
   "cell_type": "code",
   "execution_count": 15,
   "id": "00437f67-eb7d-4e36-8476-9b96028324f7",
   "metadata": {},
   "outputs": [
    {
     "name": "stdout",
     "output_type": "stream",
     "text": [
      "\n",
      "Exercise 6:\n",
      "     name  age gender  occupation\n",
      "1    Bob   30      M     Manager\n",
      "3  David   35      M  Programmer\n",
      "4   Emma   40      F     Manager\n",
      "6  Grace   31      F  Programmer\n",
      "8    Ian   33      M     Analyst\n"
     ]
    }
   ],
   "source": [
    "# Exercise 6\n",
    "age_filtered_df = df[df['age'] >= 30]\n",
    "print(\"\\nExercise 6:\\n\", age_filtered_df)"
   ]
  },
  {
   "cell_type": "code",
   "execution_count": 17,
   "id": "289136f6-3293-408d-94cc-3f6c2c21f26c",
   "metadata": {},
   "outputs": [
    {
     "name": "stdout",
     "output_type": "stream",
     "text": [
      "\n",
      "Exercise 7:\n",
      "       name  age gender  occupation\n",
      "0    Alice   25      F  Programmer\n",
      "1      Bob   30      M     Manager\n",
      "2  Charlie   22      M     Analyst\n",
      "3    David   35      M  Programmer\n",
      "4     Emma   40      F     Manager\n",
      "5    Frank   29      M     Analyst\n",
      "6    Grace   31      F  Programmer\n",
      "7   Hannah   28      F     Manager\n",
      "8      Ian   33      M     Analyst\n",
      "9     Jack   27      M  Programmer\n"
     ]
    }
   ],
   "source": [
    "# Exercise 7\n",
    "csv_filename = \"dataframe.csv\"\n",
    "df.to_csv(csv_filename, index=False)  # Save to CSV\n",
    "loaded_df = pd.read_csv(csv_filename)  # Read from CSV\n",
    "print(\"\\nExercise 7:\\n\", loaded_df)"
   ]
  }
 ],
 "metadata": {
  "kernelspec": {
   "display_name": "Python [conda env:base] *",
   "language": "python",
   "name": "conda-base-py"
  },
  "language_info": {
   "codemirror_mode": {
    "name": "ipython",
    "version": 3
   },
   "file_extension": ".py",
   "mimetype": "text/x-python",
   "name": "python",
   "nbconvert_exporter": "python",
   "pygments_lexer": "ipython3",
   "version": "3.12.7"
  }
 },
 "nbformat": 4,
 "nbformat_minor": 5
}
