{
 "cells": [
  {
   "cell_type": "code",
   "execution_count": 15,
   "id": "8037467b-62ab-4247-805b-211da3764d16",
   "metadata": {},
   "outputs": [
    {
     "name": "stdout",
     "output_type": "stream",
     "text": [
      "Original List: [10, 25, 37, 42, 56]\n",
      "Updated List: [10, 25, 37, 42, 56, 77, 88, 99]\n",
      "List elements:\n",
      "10\n",
      "25\n",
      "37\n",
      "42\n",
      "56\n",
      "77\n",
      "88\n",
      "99\n"
     ]
    }
   ],
   "source": [
    "#Topic :List\n",
    "# Q1: Create a list of 5 random numbers and print the list\n",
    "numbers = [10, 25, 37, 42, 56]\n",
    "print(\"Original List:\", numbers)\n",
    "\n",
    "# Q2: Insert 3 new values to the list and print the updated list\n",
    "numbers.extend([77, 88, 99])\n",
    "print(\"Updated List:\", numbers)\n",
    "\n",
    "# Q3: Use a for loop to print each element in the list\n",
    "print(\"List elements:\")\n",
    "for num in numbers:\n",
    "    print(num)\n"
   ]
  },
  {
   "cell_type": "code",
   "execution_count": 17,
   "id": "7a771e14-a243-4381-8a68-8dfb19a243a2",
   "metadata": {},
   "outputs": [
    {
     "name": "stdout",
     "output_type": "stream",
     "text": [
      "Original Dictionary: {'name': 'John', 'age': 25, 'address': 'New York'}\n",
      "Updated Dictionary: {'name': 'John', 'age': 25, 'address': 'New York', 'phone': '1234567890'}\n"
     ]
    }
   ],
   "source": [
    "#Topic: Dictionary\n",
    "# Q1: Create a dictionary with keys 'name', 'age', and 'address'\n",
    "person = {'name': 'John', 'age': 25, 'address': 'New York'}\n",
    "print(\"Original Dictionary:\", person)\n",
    "\n",
    "# Q2: Add a new key-value pair 'phone'\n",
    "person['phone'] = '1234567890'\n",
    "print(\"Updated Dictionary:\", person)\n"
   ]
  },
  {
   "cell_type": "code",
   "execution_count": 19,
   "id": "6492cb3c-ce3a-4505-a867-531bef0106d5",
   "metadata": {},
   "outputs": [
    {
     "name": "stdout",
     "output_type": "stream",
     "text": [
      "Original Set: {1, 2, 3, 4, 5}\n",
      "Set after adding 6: {1, 2, 3, 4, 5, 6}\n",
      "Set after removing 3: {1, 2, 4, 5, 6}\n"
     ]
    }
   ],
   "source": [
    "#Topic: Set\n",
    "# Q1: Create a set with values 1, 2, 3, 4, and 5\n",
    "num_set = {1, 2, 3, 4, 5}\n",
    "print(\"Original Set:\", num_set)\n",
    "\n",
    "# Q2: Add the value 6 to the set\n",
    "num_set.add(6)\n",
    "print(\"Set after adding 6:\", num_set)\n",
    "\n",
    "# Q3: Remove the value 3 from the set\n",
    "num_set.discard(3)  # Using discard to avoid errors if 3 is not in the set\n",
    "print(\"Set after removing 3:\", num_set)\n"
   ]
  },
  {
   "cell_type": "code",
   "execution_count": 21,
   "id": "d7e4568b-5907-4b5a-a721-5f2cab6009dd",
   "metadata": {},
   "outputs": [
    {
     "name": "stdout",
     "output_type": "stream",
     "text": [
      "Tuple: (1, 2, 3, 4)\n",
      "Length of the tuple: 4\n"
     ]
    }
   ],
   "source": [
    "#Topic:Tuple\n",
    "# Q1: Create a tuple with values 1, 2, 3, and 4\n",
    "num_tuple = (1, 2, 3, 4)\n",
    "print(\"Tuple:\", num_tuple)\n",
    "\n",
    "# Q2: Print the length of the tuple\n",
    "print(\"Length of the tuple:\", len(num_tuple))\n"
   ]
  },
  {
   "cell_type": "code",
   "execution_count": null,
   "id": "6aa43a26-09b3-4ffe-9324-54409b92000b",
   "metadata": {},
   "outputs": [],
   "source": []
  }
 ],
 "metadata": {
  "kernelspec": {
   "display_name": "Python [conda env:base] *",
   "language": "python",
   "name": "conda-base-py"
  },
  "language_info": {
   "codemirror_mode": {
    "name": "ipython",
    "version": 3
   },
   "file_extension": ".py",
   "mimetype": "text/x-python",
   "name": "python",
   "nbconvert_exporter": "python",
   "pygments_lexer": "ipython3",
   "version": "3.12.7"
  }
 },
 "nbformat": 4,
 "nbformat_minor": 5
}
