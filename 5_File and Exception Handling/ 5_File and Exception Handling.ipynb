{
 "cells": [
  {
   "cell_type": "code",
   "execution_count": 15,
   "id": "238601f5-2fff-49aa-ada6-49b50e0b366a",
   "metadata": {},
   "outputs": [
    {
     "name": "stdout",
     "output_type": "stream",
     "text": [
      "content of the file is:\n",
      "read and display\n"
     ]
    }
   ],
   "source": [
    "# Exercise 1\n",
    "with open('G:/My Drive/DSML raw files/python/readfile.txt') as xyz:\n",
    "    content = xyz.read()\n",
    "    print (\"content of the file is:\")\n",
    "    print (content)"
   ]
  },
  {
   "cell_type": "code",
   "execution_count": 17,
   "id": "de700e8b-314f-4a5b-9e4c-6e8c72c7e7f1",
   "metadata": {},
   "outputs": [
    {
     "name": "stdin",
     "output_type": "stream",
     "text": [
      "Enter the source file path:  G:\\My Drive\\DSML raw files\\python\\readfile.txt\n",
      "Enter the destination file path:  G:\\My Drive\\DSML raw files\\python\n"
     ]
    },
    {
     "name": "stdout",
     "output_type": "stream",
     "text": [
      "An error occurred: 'G:\\\\My Drive\\\\DSML raw files\\\\python\\\\readfile.txt' and 'G:\\\\My Drive\\\\DSML raw files\\\\python\\\\readfile.txt' are the same file\n"
     ]
    }
   ],
   "source": [
    "# Exercise 2\n",
    "import shutil\n",
    "\n",
    "source = input(\"Enter the source file path: \")\n",
    "destination = input(\"Enter the destination file path: \")\n",
    "\n",
    "try:\n",
    "    shutil.copy(source, destination)\n",
    "    print(f\"Contents copied from '{source}' to '{destination}' successfully!\")\n",
    "except FileNotFoundError:\n",
    "    print(\"Error: Source file not found.\")\n",
    "except Exception as e:\n",
    "    print(f\"An error occurred: {e}\")\n"
   ]
  },
  {
   "cell_type": "code",
   "execution_count": null,
   "id": "910844e2-de26-4229-b1c7-4188012850c8",
   "metadata": {},
   "outputs": [],
   "source": [
    "# Exercise 3\n",
    "file_path = input(\"Enter the file path: \")\n",
    "\n",
    "try:\n",
    "    with open(file_path, 'r', encoding='utf-8') as file:\n",
    "        content = file.read()\n",
    "        words = content.split()\n",
    "        word_count = len(words)\n",
    "    \n",
    "    print(\"Content of the file:\")\n",
    "    print(content)\n",
    "    print(\"\\nTotal number of words:\", word_count)\n",
    "\n",
    "except FileNotFoundError:\n",
    "    print(\"Error: File not found.\")\n",
    "except Exception as e:\n",
    "    print(f\"An error occurred: {e}\")\n"
   ]
  },
  {
   "cell_type": "code",
   "execution_count": null,
   "id": "578560d4-3647-4970-9938-aa604166eaab",
   "metadata": {},
   "outputs": [],
   "source": [
    "# Exercise 4\n",
    "try:\n",
    "    user_input = input(\"Enter a number: \")\n",
    "    converted_number = int(user_input)  # Convert input to integer\n",
    "    print(\"Successfully converted to integer:\", converted_number)\n",
    "except ValueError:\n",
    "    print(\"Error: Invalid input! Please enter a valid integer.\")\n",
    "except Exception as e:\n",
    "    print(\"An unexpected error occurred:\", e)\n"
   ]
  },
  {
   "cell_type": "code",
   "execution_count": null,
   "id": "b6c9b61f-9c83-4490-bafc-49537d19f2b5",
   "metadata": {},
   "outputs": [],
   "source": [
    "# Exercise 5\n",
    "try:\n",
    "    # Prompt user for input and convert to a list of integers\n",
    "    numbers = list(map(int, input(\"Enter a list of integers separated by spaces: \").split()))\n",
    "\n",
    "    # Check for negative numbers\n",
    "    for num in numbers:\n",
    "        if num < 0:\n",
    "            raise ValueError(\"Error: Negative numbers are not allowed!\")\n",
    "\n",
    "    print(\"Valid list of integers:\", numbers)\n",
    "\n",
    "except ValueError as e:\n",
    "    print(e)\n",
    "except Exception as e:\n",
    "    print(\"An unexpected error occurred:\", e)\n"
   ]
  },
  {
   "cell_type": "code",
   "execution_count": null,
   "id": "2df5cf09-23fa-4d88-b4b7-95a40d542f6e",
   "metadata": {},
   "outputs": [],
   "source": [
    "# Exercise 6\n",
    "try:\n",
    "    # Prompt user for input and convert to a list of integers\n",
    "    numbers = list(map(int, input(\"Enter a list of integers separated by spaces: \").split()))\n",
    "\n",
    "    # Ensure the list is not empty\n",
    "    if not numbers:\n",
    "        raise ValueError(\"Error: List cannot be empty!\")\n",
    "\n",
    "    # Calculate the average\n",
    "    average = sum(numbers) / len(numbers)\n",
    "    print(\"The average of the numbers is:\", average)\n",
    "\n",
    "except ValueError:\n",
    "    print(\"Error: Please enter only valid integers separated by spaces.\")\n",
    "except ZeroDivisionError:\n",
    "  \n"
   ]
  },
  {
   "cell_type": "code",
   "execution_count": null,
   "id": "2ac12857-370c-4b02-8d04-635dd55281d5",
   "metadata": {},
   "outputs": [],
   "source": [
    "# Exercise 7\n",
    "try:\n",
    "    # Prompt user for filename\n",
    "    filename = input(\"Enter the filename to write to: \")\n",
    "\n",
    "    # Open file in write mode and write a string\n",
    "    with open(filename, \"w\") as file:\n",
    "        file.write(\"Hello! This is a test message written to the file.\")\n",
    "\n",
    "    # If no exception occurs, print welcome message\n",
    "    print(\"File written successfully! Welcome!\")\n",
    "\n",
    "except FileNotFoundError:\n",
    "    print(\"Error: Invalid file path or filename.\")\n",
    "except PermissionError:\n",
    "    print(\"Error: You do not have permission to write to this file.\")\n",
    "except Exception as e:\n",
    "    print(f\"An unexpected error occurred: {e}\")\n"
   ]
  }
 ],
 "metadata": {
  "kernelspec": {
   "display_name": "Python [conda env:base] *",
   "language": "python",
   "name": "conda-base-py"
  },
  "language_info": {
   "codemirror_mode": {
    "name": "ipython",
    "version": 3
   },
   "file_extension": ".py",
   "mimetype": "text/x-python",
   "name": "python",
   "nbconvert_exporter": "python",
   "pygments_lexer": "ipython3",
   "version": "3.12.7"
  }
 },
 "nbformat": 4,
 "nbformat_minor": 5
}
