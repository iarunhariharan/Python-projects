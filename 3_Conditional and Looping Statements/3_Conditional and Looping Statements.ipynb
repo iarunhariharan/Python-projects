{
 "cells": [
  {
   "cell_type": "code",
   "execution_count": null,
   "id": "f8e9c4af-e51d-48d0-92b8-4d0836a34c1f",
   "metadata": {},
   "outputs": [],
   "source": [
    "#Exercise 1: MonthNames.py\n",
    "month_names = [\"January\", \"February\", \"March\", \"April\", \"May\", \"June\", \n",
    "               \"July\", \"August\", \"September\", \"October\", \"November\", \"December\"]\n",
    "\n",
    "month = int(input(\"Enter the month: \"))\n",
    "\n",
    "if 1 <= month <= 12:\n",
    "    print(f\"Month {month} is {month_names[month - 1]}\")\n",
    "else:\n",
    "    print(\"Invalid month! Please enter a number between 1 and 12.\")\n"
   ]
  },
  {
   "cell_type": "code",
   "execution_count": null,
   "id": "19a58151-c24d-4172-b377-3751017d2435",
   "metadata": {},
   "outputs": [],
   "source": [
    "#Exercise 2: Cinema Ticket Price\n",
    "age = int(input(\"Enter your age: \"))\n",
    "\n",
    "full_price = 6.00\n",
    "\n",
    "if age < 16:\n",
    "    ticket_price = full_price / 2\n",
    "elif age >= 60:\n",
    "    ticket_price = full_price / 3\n",
    "else:\n",
    "    ticket_price = full_price\n",
    "\n",
    "print(f\"Your ticket costs £{ticket_price:.2f}\")\n"
   ]
  },
  {
   "cell_type": "code",
   "execution_count": null,
   "id": "c2b27375-f65a-407b-8ad2-79cc08f4940d",
   "metadata": {},
   "outputs": [],
   "source": [
    "#Exercise 3: BodyMassIndex.py\n",
    "weight = float(input(\"Enter your weight in (kg): \"))\n",
    "height = float(input(\"Enter your height in (m): \"))\n",
    "\n",
    "bmi = weight / (height ** 2)\n",
    "\n",
    "print(f\"Your BMI is: {bmi:.2f}\")\n",
    "\n",
    "if bmi < 18.5:\n",
    "    print(\"You are in the 'Underweight' range.\")\n",
    "elif 18.5 <= bmi <= 24.9:\n",
    "    print(\"You are in the 'Normal' range.\")\n",
    "elif 25 <= bmi <= 29.9:\n",
    "    print(\"You are in the 'Overweight' range.\")\n",
    "else:\n",
    "    print(\"You are in the 'Obese' range.\")\n"
   ]
  },
  {
   "cell_type": "code",
   "execution_count": null,
   "id": "16aaf4d9-8d41-4b74-8409-6dd0abfc730a",
   "metadata": {},
   "outputs": [],
   "source": [
    "#Exercise 4: Greatest Among Three Numbers\n",
    "num1 = float(input(\"Enter first number: \"))\n",
    "num2 = float(input(\"Enter second number: \"))\n",
    "num3 = float(input(\"Enter third number: \"))\n",
    "\n",
    "greatest = max(num1, num2, num3)\n",
    "\n",
    "print(f\"The greatest number is {greatest}\")\n"
   ]
  },
  {
   "cell_type": "code",
   "execution_count": null,
   "id": "42b8a41d-fb6e-4764-addb-950d7263e9c0",
   "metadata": {},
   "outputs": [],
   "source": [
    "#Exercise 5: Factorial of a Number\n",
    "num = int(input(\"Enter a number: \"))\n",
    "\n",
    "factorial = 1\n",
    "for i in range(1, num + 1):\n",
    "    factorial *= i\n",
    "\n",
    "print(f\"The factorial of {num} is {factorial}\")\n"
   ]
  },
  {
   "cell_type": "code",
   "execution_count": null,
   "id": "368a0506-91d4-4197-a78e-2882c5633295",
   "metadata": {},
   "outputs": [],
   "source": [
    "#Exercise 6: Reverse a Number\n",
    "num = int(input(\"Enter a number: \"))\n",
    "reverse = 0\n",
    "\n",
    "while num > 0:\n",
    "    digit = num % 10\n",
    "    reverse = reverse * 10 + digit\n",
    "    num //= 10\n",
    "\n",
    "print(f\"Reversed number: {reverse}\")\n"
   ]
  },
  {
   "cell_type": "code",
   "execution_count": null,
   "id": "78fe62c5-ed20-4503-adf2-684522bc871e",
   "metadata": {},
   "outputs": [],
   "source": [
    "#Exercise 7: Finding Multiples of a Number\n",
    "num = int(input(\"Enter a number: \"))\n",
    "limit = int(input(\"Enter the limit: \"))\n",
    "\n",
    "print(f\"Multiples of {num} up to {limit}:\")\n",
    "for i in range(1, limit + 1):\n",
    "    print(num * i, end=\" \")\n"
   ]
  },
  {
   "cell_type": "code",
   "execution_count": null,
   "id": "3740a490-cb9c-48fb-9385-454921a9d9f2",
   "metadata": {},
   "outputs": [],
   "source": [
    "#Exercise 8: Print Input Until 'done' is Entered\n",
    "while True:\n",
    "    user_input = input(\":\")\n",
    "    print(user_input)\n",
    "    if user_input.lower() == 'done':\n",
    "        break\n"
   ]
  },
  {
   "cell_type": "code",
   "execution_count": null,
   "id": "0952e865-9de1-41c2-a82d-563faab91d53",
   "metadata": {},
   "outputs": [],
   "source": [
    "#Exercise 9: FizzBuzz\n",
    "for i in range(1, 11):\n",
    "    if i % 3 == 0 and i % 5 == 0:\n",
    "        print(\"FizzBuzz\")\n",
    "    elif i % 3 == 0:\n",
    "        print(\"Fizz\")\n",
    "    elif i % 5 == 0:\n",
    "        print(\"Buzz\")\n",
    "    else:\n",
    "        print(i)\n"
   ]
  },
  {
   "cell_type": "code",
   "execution_count": null,
   "id": "c6a67578-c486-4f84-a2de-e39154915805",
   "metadata": {},
   "outputs": [],
   "source": [
    "#Exercise 10: Pattern Printing\n",
    "for i in range(5, 0, -1):\n",
    "    for j in range(i, 0, -1):\n",
    "        print(j, end=\" \")\n",
    "    print()\n"
   ]
  }
 ],
 "metadata": {
  "kernelspec": {
   "display_name": "Python [conda env:base] *",
   "language": "python",
   "name": "conda-base-py"
  },
  "language_info": {
   "codemirror_mode": {
    "name": "ipython",
    "version": 3
   },
   "file_extension": ".py",
   "mimetype": "text/x-python",
   "name": "python",
   "nbconvert_exporter": "python",
   "pygments_lexer": "ipython3",
   "version": "3.12.7"
  }
 },
 "nbformat": 4,
 "nbformat_minor": 5
}
